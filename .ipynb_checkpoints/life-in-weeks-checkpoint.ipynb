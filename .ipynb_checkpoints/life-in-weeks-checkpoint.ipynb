{
 "cells": [
  {
   "cell_type": "code",
   "execution_count": 3,
   "id": "bd17c715-9072-42c9-8ae5-30615496e68e",
   "metadata": {},
   "outputs": [
    {
     "name": "stdin",
     "output_type": "stream",
     "text": [
      "Enter your age: 22\n"
     ]
    },
    {
     "name": "stdout",
     "output_type": "stream",
     "text": [
      "You have 8030 days, 1144 weeks, and 264 months.\n"
     ]
    }
   ],
   "source": [
    "# you can know the age upto 90 years\n",
    "age = int(input(\"Enter your age:\"))\n",
    "Remaining_age = 90 - age\n",
    "days = age * 365\n",
    "weeks = age * 52\n",
    "months = age * 12\n",
    "print(f\"You have {days} days, {weeks} weeks, and {months} months.\")"
   ]
  },
  {
   "cell_type": "code",
   "execution_count": null,
   "id": "8f0e8503-30e0-4860-8cb1-1db87c21a803",
   "metadata": {},
   "outputs": [],
   "source": []
  }
 ],
 "metadata": {
  "kernelspec": {
   "display_name": "Python 3 (ipykernel)",
   "language": "python",
   "name": "python3"
  },
  "language_info": {
   "codemirror_mode": {
    "name": "ipython",
    "version": 3
   },
   "file_extension": ".py",
   "mimetype": "text/x-python",
   "name": "python",
   "nbconvert_exporter": "python",
   "pygments_lexer": "ipython3",
   "version": "3.12.2"
  }
 },
 "nbformat": 4,
 "nbformat_minor": 5
}
